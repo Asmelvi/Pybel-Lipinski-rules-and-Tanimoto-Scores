{
 "cells": [
  {
   "cell_type": "code",
   "execution_count": 1,
   "id": "f5b954f1",
   "metadata": {},
   "outputs": [],
   "source": [
    "from openbabel import pybel"
   ]
  },
  {
   "cell_type": "code",
   "execution_count": 7,
   "id": "d7893369",
   "metadata": {},
   "outputs": [],
   "source": [
    "# Before doing anything, we define the paths to open the files \n",
    "\n",
    "smi_1 = \"PATH1.smi\"   # Query\n",
    "smi_2 = \"PATH2.smi\"     # Search\n"
   ]
  },
  {
   "cell_type": "code",
   "execution_count": 8,
   "id": "67f7353a",
   "metadata": {},
   "outputs": [
    {
     "name": "stdout",
     "output_type": "stream",
     "text": [
      "CN1CCN(CC1)Cc1ccc(cc1)C(=O)Nc1ccc(c(c1)Nc1nccc(n1)c1cccnc1)C\tImatinib\n",
      "CCN(CCNC(=O)c1c(C)[nH]c(c1C)/C=C/1\\C(=O)Nc2c1cc(F)cc2)CC\tSunitinib\n"
     ]
    }
   ],
   "source": [
    "# PART 1\n",
    "\n",
    "# First of all, we define the Lipinksi rules\n",
    "\n",
    "def lipinski(mol):\n",
    "    desc = mol.calcdesc()\n",
    "    return desc['HBD'] <= 5 and desc['HBA1'] <= 10 and desc['MW'] <= 500 and desc['logP'] <= 5\n",
    "\n",
    "# Now we run each line (molecule) and if it obeys Lipinksi rules, it prints it.\n",
    "\n",
    "for mol in pybel.readfile('smi',smi_2):\n",
    "    if lipinski(mol) == True:\n",
    "        print(mol.write('can').rstrip())\n"
   ]
  },
  {
   "cell_type": "code",
   "execution_count": 25,
   "id": "8c54ee08",
   "metadata": {},
   "outputs": [
    {
     "name": "stdout",
     "output_type": "stream",
     "text": [
      "CN1CCN(CC1)Cc1ccc(cc1)C(=O)Nc1ccc(c(c1)Nc1nccc(n1)c1cccnc1)C\tImatinib\t1.0000\n",
      "CCN(CCNC(=O)c1c(C)[nH]c(c1C)/C=C/1\\C(=O)Nc2c1cc(F)cc2)CC\tSunitinib\t0.3390\n"
     ]
    }
   ],
   "source": [
    "# PART 2\n",
    "\n",
    "\n",
    "\n",
    "# First of all, we define the Lipinksi rules (This is not needed since it is already stated in the first one, but just in case you want to do it from 0)\n",
    "\n",
    "def lipinski(mol):\n",
    "    desc = mol.calcdesc()\n",
    "    return desc['HBD'] <= 5 and desc['HBA1'] <= 10 and desc['MW'] <= 500 and desc['logP'] <= 5\n",
    "\n",
    "# Now we run each line (molecule) and if it obeys Lipinksi rules, it prints it.\n",
    "# Also, we calculate the Tanimoto Score against the first molecule of the query file (smi_1)\n",
    "\n",
    "counter = 0\n",
    "\n",
    "for mol2 in pybel.readfile('smi',smi_1):\n",
    "    if counter == 0:\n",
    "        for mol in pybel.readfile('smi',smi_2):\n",
    "            if lipinski(mol) == True:\n",
    "                query_first_fp = mol2.calcfp()\n",
    "                search_f = mol.calcfp()\n",
    "                tanimoto = (search_f | query_first_fp)\n",
    "                tanimoto = format(tanimoto,'.4f')\n",
    "                print(str(mol.write('can').rstrip()) + \"\\t\" + str(tanimoto))\n",
    "        counter += 1\n",
    "        "
   ]
  },
  {
   "cell_type": "code",
   "execution_count": 49,
   "id": "1e1f2fec",
   "metadata": {},
   "outputs": [
    {
     "name": "stdout",
     "output_type": "stream",
     "text": [
      "O=C(NC(C)(C)C)CN(C(=O)c1cc(nc2c1cccc2)c1ccc(cc1)C)C\tZINC10293777\t0.4337\n",
      "CCc1ccc(cc1)C(=O)N1CC[NH+](CC1)[C@H](C(=O)Nc1ccc(cc1)C(=O)C)C\tZINC27743523\t0.4194\n",
      "O=C([C@@H]1COc2c(O1)cccc2)N1CCN(CC1)c1nc(nc2c1cccc2)c1cccnc1\tZINC13096382\t0.4038\n",
      "CCNC(=O)CN(c1nc(C)cc(c1C#N)C)CC\tZINC42370730\t0.3943\n",
      "O=C(c1ccc(cc1)CN1CC(=O)N2[C@H](C1=O)CCC2)Nc1ccccc1Cl\tZINC21526936\t0.3895\n",
      "Clc1ccc(cc1)C[NH+]1CCN(CC1)C(=O)CNC(=O)c1ccc(cc1)N1CCCC1=O\tZINC18017580\t0.3865\n",
      "C[C@@H]1OCCN(C1)Cc1ccc(cc1)C(=O)Nc1cccc2c1[nH]nc2\tZINC25090321\t0.3842\n",
      "CNC(=O)c1ccc(cc1)C[NH+](Cc1ccc(cc1)C(=O)Nc1ccccc1)C\tZINC07996780\t0.3813\n",
      "O=C(c1cccc(c1)CN1C(=O)CNC1=O)Nc1ccc(c(c1)C)n1cnnn1\tZINC29524869\t0.3802\n",
      "Fc1ccc(cc1)Nc1ncccc1C(=O)N(CC1OCCO1)C\tZINC39230173\t0.3777\n"
     ]
    }
   ],
   "source": [
    "smi_2 = \"PATH3.smi\" # Search\n",
    "\n",
    "# Part 3\n",
    "\n",
    "# This part is similar to the part 2, but in this case we need to also print the Tanimoto scores\n",
    "\n",
    "# First of all, we define the Lipinksi rules (This is not needed since it is already stated in the first one and the second one, but just in case you want to do it from 0)\n",
    "\n",
    "def lipinski(mol):\n",
    "    desc = mol.calcdesc()\n",
    "    return desc['HBD'] <= 5 and desc['HBA1'] <= 10 and desc['MW'] <= 500 and desc['logP'] <= 5\n",
    "\n",
    "# In this case, we will also compare the molecules to the 1st query molecule.\n",
    "# Also, it needs to match Lipinksi rules and should be shown in order of their Tanimoto Score, so:\n",
    "\n",
    "counter = 0\n",
    "dict_molecules = {}\n",
    "list_values_tanimotos = []\n",
    "\n",
    "\n",
    "for mol2 in pybel.readfile('smi',smi_1):\n",
    "    if counter == 0:\n",
    "        for mol in pybel.readfile('smi',smi_2):                  # THIS IS NOT THE SMI SHOWN IN THE PDF. YOU JUST NEED TO REPLACE THIS FOR THE FILE YOU NEED! THE 1k.smi!\n",
    "            if lipinski(mol) == True:\n",
    "                query_first_fp = mol2.calcfp()\n",
    "                search_f = mol.calcfp()\n",
    "                tanimoto_score = (search_f | query_first_fp)\n",
    "                tanimoto_score = format(tanimoto_score,'.4f')\n",
    "                mol_id = mol.write('can').rstrip()\n",
    "                list_values_tanimotos.append(tanimoto_score)\n",
    "                dict_molecules[tanimoto_score] = mol_id\n",
    "        counter += 1\n",
    "        \n",
    "list_values_tanimotos.sort(reverse=True)\n",
    "\n",
    "counter2 = 1\n",
    "for value in list_values_tanimotos:\n",
    "    for key in dict_molecules.keys():\n",
    "        if value == key and counter2 <= 10:\n",
    "            print (str(dict_molecules[key]) + \"\\t\" + str(key))\n",
    "            counter2+=1\n"
   ]
  },
  {
   "cell_type": "code",
   "execution_count": 78,
   "id": "090949bf",
   "metadata": {},
   "outputs": [
    {
     "name": "stdout",
     "output_type": "stream",
     "text": [
      "Cc1cccc(n1)n1cnc(c1)C(=O)N1CCN(CC1)c1cccc(c1)C(F)(F)F\tZINC01383835\t0.3744\n",
      "O=C(c1cc(nc2c1cccc2)C(C)C)NCc1ccc(nc1)n1cccn1\tZINC39548744\t0.3418\n",
      "O=C([C@@H]1COc2c(O1)cccc2)N1CCN(CC1)c1nc(nc2c1cccc2)c1cccnc1\tZINC13096382\t0.3412\n",
      "COC(=O)c1ccc(cc1)NC(=O)c1cn(C)c2c(c1=O)cc(cc2)Cl\tZINC41056662\t0.3394\n",
      "O=C(c1cccc(c1)CN1C(=O)CNC1=O)Nc1ccc(c(c1)C)n1cnnn1\tZINC29524869\t0.3375\n",
      "CCOC(=O)Cc1ncccc1C(=O)Nc1ccc(cc1)I\tZINC29108003\t0.3355\n",
      "O=C1CCc2c(N1)ccc(c2)[C@@H](NC(=O)C(=O)Nc1cccc(c1)C(=O)N(C)C)C\tZINC41926777\t0.3343\n",
      "O=C(NC(C)(C)C)CN(C(=O)c1cc(nc2c1cccc2)c1ccc(cc1)C)C\tZINC10293777\t0.3340\n",
      "CCc1ccc(cc1)C(=O)N1CC[NH+](CC1)[C@H](C(=O)Nc1ccc(cc1)C(=O)C)C\tZINC27743523\t0.3268\n",
      "CCNC(=O)CN(c1nc(C)cc(c1C#N)C)CC\tZINC42370730\t0.3254\n"
     ]
    }
   ],
   "source": [
    "smi_1 = \"PATH1.smi\"   # Query\n",
    "smi_2 = \"PATH3.smi\"       # Search\n",
    "\n",
    "# Part 4\n",
    "\n",
    "# This part is similar to the part 3, but we need to get rid of the \"counter\". We want to compare all queries against all searched molecules\n",
    "\n",
    "# First of all, we define the Lipinksi rules (This is not needed since it is already stated in the first, second and third part. But just in case you want to do it from 0)\n",
    "\n",
    "def lipinski(mol):\n",
    "    desc = mol.calcdesc()\n",
    "    return desc['HBD'] <= 5 and desc['HBA1'] <= 10 and desc['MW'] <= 500 and desc['logP'] <= 5\n",
    "\n",
    "# In this case, we will also compare the molecules to the 1st query molecule.\n",
    "# Also, it needs to match Lipinksi rules and should be shown in order of their Tanimoto Score, so:\n",
    "\n",
    "\n",
    "dict_molecules = {}\n",
    "list_values_tanimotos = []\n",
    "sum_tanimoto = 0\n",
    "average_tanimoto = 0\n",
    "\n",
    "for mol2 in pybel.readfile('smi',smi_1):\n",
    "    for mol in pybel.readfile('smi',smi_2):                  # THIS IS NOT THE SMI SHOWN IN THE PDF. YOU JUST NEED TO REPLACE THIS FOR THE FILE YOU NEED! THE 1k.smi!\n",
    "        if lipinski(mol) == True:\n",
    "            mol_id = mol.write('can').rstrip()\n",
    "            if mol_id not in dict_molecules.keys():\n",
    "                query_first_fp = mol2.calcfp()\n",
    "                search_f = mol.calcfp()\n",
    "                tanimoto_score = (search_f | query_first_fp)\n",
    "                mol_id = mol.write('can').rstrip()\n",
    "                list_values_tanimotos.append(tanimoto_score)\n",
    "                dict_molecules[mol_id] = [tanimoto_score]\n",
    "            elif mol_id in dict_molecules.keys():\n",
    "                query_first_fp = mol2.calcfp()\n",
    "                search_f = mol.calcfp()\n",
    "                tanimoto_score = (search_f | query_first_fp)\n",
    "                dict_molecules[mol_id] += [tanimoto_score]\n",
    "                \n",
    "dict_molecules_average_tanimotos = {}\n",
    "sum_tanimotos = 0\n",
    "counter = 0\n",
    "\n",
    "for listanimotos in dict_molecules.keys():\n",
    "    for item in dict_molecules[listanimotos]:\n",
    "        sum_tanimotos += item\n",
    "        counter+=1\n",
    "    average_tanimoto = (sum_tanimotos/counter)\n",
    "    dict_molecules_average_tanimotos[listanimotos] = format(average_tanimoto, \".4f\")\n",
    "    average_tanimoto = 0\n",
    "    sum_tanimotos = 0\n",
    "    counter = 0\n",
    "        \n",
    "counter2 = 1\n",
    "\n",
    "sorted_values = sorted(dict_molecules_average_tanimotos.values(), reverse=True)\n",
    "\n",
    "for value in sorted_values:\n",
    "    if counter2 <= 10:\n",
    "        for key in dict_molecules_average_tanimotos.keys():\n",
    "            if value == dict_molecules_average_tanimotos[key]:\n",
    "                print(str(key)+'\\t'+str(dict_molecules_average_tanimotos[key]))\n",
    "                counter2+=1\n",
    "    \n",
    "        \n",
    "        \n",
    "\n"
   ]
  },
  {
   "cell_type": "markdown",
   "id": "057f1611",
   "metadata": {},
   "source": [
    "\n"
   ]
  },
  {
   "cell_type": "code",
   "execution_count": 44,
   "id": "2f4875f2",
   "metadata": {},
   "outputs": [
    {
     "name": "stdout",
     "output_type": "stream",
     "text": [
      "7\n"
     ]
    }
   ],
   "source": []
  },
  {
   "cell_type": "code",
   "execution_count": null,
   "id": "aa92744c",
   "metadata": {},
   "outputs": [],
   "source": []
  }
 ],
 "metadata": {
  "kernelspec": {
   "display_name": "Python 3 (ipykernel)",
   "language": "python",
   "name": "python3"
  },
  "language_info": {
   "codemirror_mode": {
    "name": "ipython",
    "version": 3
   },
   "file_extension": ".py",
   "mimetype": "text/x-python",
   "name": "python",
   "nbconvert_exporter": "python",
   "pygments_lexer": "ipython3",
   "version": "3.9.12"
  }
 },
 "nbformat": 4,
 "nbformat_minor": 5
}
