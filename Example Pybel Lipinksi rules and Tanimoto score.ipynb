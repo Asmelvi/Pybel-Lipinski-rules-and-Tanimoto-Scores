{
 "cells": [
  {
   "cell_type": "code",
   "execution_count": 1,
   "id": "f5b954f1",
   "metadata": {},
   "outputs": [],
   "source": [
    "from openbabel import pybel"
   ]
  },
  {
   "cell_type": "code",
   "execution_count": 16,
   "id": "d7893369",
   "metadata": {},
   "outputs": [],
   "source": [
    "# Before doing anything, we define the paths to open the files \n",
    "\n",
    "smi_1 = \"C:/Users/Avalon/Desktop/Pybel/imatinib.smi\"   # Query\n",
    "smi_2 = \"C:/Users/Avalon/Desktop/Pybel/kinase.smi\"     # Search\n"
   ]
  },
  {
   "cell_type": "code",
   "execution_count": 17,
   "id": "67f7353a",
   "metadata": {},
   "outputs": [
    {
     "name": "stdout",
     "output_type": "stream",
     "text": [
      "CN1CCN(CC1)Cc1ccc(cc1)C(=O)Nc1ccc(c(c1)Nc1nccc(n1)c1cccnc1)C\tImatinib\n",
      "CCN(CCNC(=O)c1c(C)[nH]c(c1C)/C=C/1\\C(=O)Nc2c1cc(F)cc2)CC\tSunitinib\n"
     ]
    }
   ],
   "source": [
    "# PART 1\n",
    "\n",
    "# First of all, we define the Lipinksi rules\n",
    "\n",
    "def lipinski(mol):\n",
    "    desc = mol.calcdesc()\n",
    "    return desc['HBD'] <= 5 and desc['HBA1'] <= 10 and desc['MW'] <= 500 and desc['logP'] <= 5\n",
    "\n",
    "# Now we run each line (molecule) and if it obeys Lipinksi rules, it prints it.\n",
    "\n",
    "for mol in pybel.readfile('smi',smi_2):\n",
    "    if lipinski(mol) == True:\n",
    "        print(mol.write('can').rstrip())\n"
   ]
  },
  {
   "cell_type": "code",
   "execution_count": 27,
   "id": "8c54ee08",
   "metadata": {},
   "outputs": [
    {
     "name": "stdout",
     "output_type": "stream",
     "text": [
      "CN1CCN(CC1)Cc1ccc(cc1)C(=O)Nc1ccc(c(c1)Nc1nccc(n1)c1cccnc1)C\tImatinib\t1.0\n",
      "CCN(CCNC(=O)c1c(C)[nH]c(c1C)/C=C/1\\C(=O)Nc2c1cc(F)cc2)CC\tSunitinib\t0.3389830508474576\n"
     ]
    }
   ],
   "source": [
    "# PART 2\n",
    "\n",
    "\n",
    "\n",
    "# First of all, we define the Lipinksi rules (This is not needed since it is already stated in the first one, but just in case you want to do it from 0)\n",
    "\n",
    "def lipinski(mol):\n",
    "    desc = mol.calcdesc()\n",
    "    return desc['HBD'] <= 5 and desc['HBA1'] <= 10 and desc['MW'] <= 500 and desc['logP'] <= 5\n",
    "\n",
    "# Now we run each line (molecule) and if it obeys Lipinksi rules, it prints it.\n",
    "# Also, we calculate the Tanimoto Score against the first molecule of the query file (smi_1)\n",
    "\n",
    "counter = 0\n",
    "\n",
    "for mol2 in pybel.readfile('smi',smi_1):\n",
    "    if counter == 0:\n",
    "        for mol in pybel.readfile('smi',smi_2):\n",
    "            if lipinski(mol) == True:\n",
    "                query_first_fp = mol2.calcfp()\n",
    "                search_f = mol.calcfp()\n",
    "                print(str(mol.write('can').rstrip()) + \"\\t\" + str(search_f | query_first_fp))\n",
    "        counter += 1\n",
    "        "
   ]
  },
  {
   "cell_type": "code",
   "execution_count": 32,
   "id": "1e1f2fec",
   "metadata": {},
   "outputs": [
    {
     "name": "stdout",
     "output_type": "stream",
     "text": [
      "CN1CCN(CC1)Cc1ccc(cc1)C(=O)Nc1ccc(c(c1)Nc1nccc(n1)c1cccnc1)C\tImatinib\t1.0\n",
      "CCN(CCNC(=O)c1c(C)[nH]c(c1C)/C=C/1\\C(=O)Nc2c1cc(F)cc2)CC\tSunitinib\t0.3389830508474576\n"
     ]
    }
   ],
   "source": [
    "# Part 3\n",
    "\n",
    "# This part is similar to the part 2, but in this case we need to also print the Tanimoto scores\n",
    "\n",
    "# First of all, we define the Lipinksi rules (This is not needed since it is already stated in the first one and the second one, but just in case you want to do it from 0)\n",
    "\n",
    "def lipinski(mol):\n",
    "    desc = mol.calcdesc()\n",
    "    return desc['HBD'] <= 5 and desc['HBA1'] <= 10 and desc['MW'] <= 500 and desc['logP'] <= 5\n",
    "\n",
    "# In this case, we will also compare the molecules to the 1st query molecule.\n",
    "# Also, it needs to match Lipinksi rules and should be shown in order of their Tanimoto Score, so:\n",
    "\n",
    "counter = 0\n",
    "dict_molecules = {}\n",
    "list_values_tanimotos = []\n",
    "\n",
    "\n",
    "for mol2 in pybel.readfile('smi',smi_1):\n",
    "    if counter == 0:\n",
    "        for mol in pybel.readfile('smi',smi_2):                  # THIS IS NOT THE SMI SHOWN IN THE PDF. YOU JUST NEED TO REPLACE THIS FOR THE FILE YOU NEED! THE 1k.smi!\n",
    "            if lipinski(mol) == True:\n",
    "                query_first_fp = mol2.calcfp()\n",
    "                search_f = mol.calcfp()\n",
    "                tanimoto_score = (search_f | query_first_fp)\n",
    "                mol_id = mol.write('can').rstrip()\n",
    "                list_values_tanimotos.append(tanimoto_score)\n",
    "                dict_molecules[tanimoto_score] = mol_id\n",
    "        counter += 1\n",
    "        \n",
    "list_values_tanimotos.sort(reverse=True)\n",
    "\n",
    "counter2 = 1\n",
    "for value in list_values_tanimotos:\n",
    "    for key in dict_molecules.keys():\n",
    "        if value == key and counter2 <= 10:\n",
    "            print (str(dict_molecules[key]) + \"\\t\" + str(key))\n",
    "            counter2+=1\n"
   ]
  },
  {
   "cell_type": "code",
   "execution_count": 40,
   "id": "090949bf",
   "metadata": {},
   "outputs": [
    {
     "name": "stdout",
     "output_type": "stream",
     "text": [
      "CCN(CCNC(=O)c1c(C)[nH]c(c1C)/C=C/1\\C(=O)Nc2c1cc(F)cc2)CC\tSunitinib\t0.6694915254237288\n"
     ]
    }
   ],
   "source": [
    "# Part 4\n",
    "\n",
    "# This part is similar to the part 3, but we need to get rid of the \"counter\". We want to compare all queries against all searched molecules\n",
    "\n",
    "# First of all, we define the Lipinksi rules (This is not needed since it is already stated in the first, second and third part. But just in case you want to do it from 0)\n",
    "\n",
    "def lipinski(mol):\n",
    "    desc = mol.calcdesc()\n",
    "    return desc['HBD'] <= 5 and desc['HBA1'] <= 10 and desc['MW'] <= 500 and desc['logP'] <= 5\n",
    "\n",
    "# In this case, we will also compare the molecules to the 1st query molecule.\n",
    "# Also, it needs to match Lipinksi rules and should be shown in order of their Tanimoto Score, so:\n",
    "\n",
    "\n",
    "dict_molecules = {}\n",
    "list_values_tanimotos = []\n",
    "sum_tanimoto = 0\n",
    "average_tanimoto = 0\n",
    "\n",
    "for mol2 in pybel.readfile('smi',smi_1):\n",
    "        for mol in pybel.readfile('smi',smi_2):                \n",
    "            if lipinski(mol) == True:\n",
    "                query_first_fp = mol2.calcfp()\n",
    "                search_f = mol.calcfp()\n",
    "                tanimoto_score = (search_f | query_first_fp)\n",
    "                list_values_tanimotos.append(tanimoto_score)\n",
    "        if list_values_tanimotos != 0:\n",
    "            for value in list_values_tanimotos:\n",
    "                sum_tanimoto += value\n",
    "            average_tanimoto = sum_tanimoto/len(list_values_tanimotos)\n",
    "            mol_id = mol.write('can').rstrip()\n",
    "            dict_molecules[average_tanimoto] = mol_id\n",
    "            average_tanimoto = 0\n",
    "            sum_tanimoto = 0\n",
    "            list_values_tanimotos = []\n",
    "\n",
    "counter2 = 1\n",
    "\n",
    "for value in sorted(dict_molecules.keys(), reverse=True):\n",
    "    if counter2 <= 10:\n",
    "        print(str(dict_molecules[value]) + \"\\t\" + str(value))\n",
    "        counter2+=1\n",
    "        \n",
    "\n"
   ]
  },
  {
   "cell_type": "markdown",
   "id": "057f1611",
   "metadata": {},
   "source": [
    "\n"
   ]
  },
  {
   "cell_type": "code",
   "execution_count": null,
   "id": "2f4875f2",
   "metadata": {},
   "outputs": [],
   "source": []
  }
 ],
 "metadata": {
  "kernelspec": {
   "display_name": "Python 3 (ipykernel)",
   "language": "python",
   "name": "python3"
  },
  "language_info": {
   "codemirror_mode": {
    "name": "ipython",
    "version": 3
   },
   "file_extension": ".py",
   "mimetype": "text/x-python",
   "name": "python",
   "nbconvert_exporter": "python",
   "pygments_lexer": "ipython3",
   "version": "3.9.12"
  }
 },
 "nbformat": 4,
 "nbformat_minor": 5
}
